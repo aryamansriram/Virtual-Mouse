{
 "cells": [
  {
   "cell_type": "markdown",
   "metadata": {},
   "source": [
    "# EXPERIMENTATION\n",
    "Before starting off with the project a brief experiment is done to demonstrate the process of colour segmentation\n",
    "\n",
    "\n",
    "\n",
    "# STEP1:Read the image"
   ]
  },
  {
   "cell_type": "code",
   "execution_count": 20,
   "metadata": {
    "collapsed": false
   },
   "outputs": [],
   "source": [
    "import cv2 \n",
    "import numpy as np\n",
    "import matplotlib.pyplot as plt\n",
    "img=cv2.imread('RED_DOT.jpg')"
   ]
  },
  {
   "cell_type": "markdown",
   "metadata": {},
   "source": [
    "# STEP2: Display the image"
   ]
  },
  {
   "cell_type": "code",
   "execution_count": 33,
   "metadata": {
    "collapsed": false
   },
   "outputs": [],
   "source": [
    "cv2.imshow('img',Open)\n",
    "cv2.waitKey(0)\n",
    "cv2.destroyAllWindows()"
   ]
  },
  {
   "cell_type": "code",
   "execution_count": 32,
   "metadata": {
    "collapsed": false
   },
   "outputs": [],
   "source": []
  },
  {
   "cell_type": "markdown",
   "metadata": {},
   "source": [
    "# STEP3: Convert color space and create image mask"
   ]
  },
  {
   "cell_type": "code",
   "execution_count": 81,
   "metadata": {
    "collapsed": false
   },
   "outputs": [],
   "source": [
    "hsv = cv2.cvtColor(img,cv2.COLOR_BGR2HSV)\n",
    "lower_red=np.array((160,100,100))\n",
    "upper_red=np.array((179,255,255))\n",
    "mask = cv2.inRange(hsv,lower_red,upper_red)\n",
    "\n",
    "kernel = np.ones(shape=(3,3))\n",
    "\n",
    "\n",
    "\n",
    "\n",
    "Close = cv2.morphologyEx(mask,cv2.MORPH_CLOSE,kernel,iterations=3)\n",
    "\n",
    "res=cv2.bitwise_and(img,img,mask=Close)\n"
   ]
  },
  {
   "cell_type": "markdown",
   "metadata": {},
   "source": [
    "# STEP4: Display the resulting image"
   ]
  },
  {
   "cell_type": "code",
   "execution_count": 83,
   "metadata": {
    "collapsed": false
   },
   "outputs": [
    {
     "data": {
      "image/png": "[encoded data removed]",
      "text/plain": [
       "<Figure size 432x288 with 1 Axes>"
      ]
     },
     "metadata": {},
     "output_type": "display_data"
    }
   ],
   "source": [
    "plt.imshow(res)\n",
    "plt.show()"
   ]
  },
  {
   "cell_type": "markdown",
   "metadata": {},
   "source": [
    "# STEP5: Load Video Source and apply the above filter to it"
   ]
  },
  {
   "cell_type": "code",
   "execution_count": 110,
   "metadata": {
    "collapsed": false
   },
   "outputs": [],
   "source": [
    "lower_red = np.array((160,100,100))\n",
    "upper_red = np.array((179,255,255))\n",
    "kernel = np.ones((3,3))\n",
    "cap = cv2.VideoCapture(0)\n",
    "while True:\n",
    "    ret,frame = cap.read()\n",
    "    hsv = cv2.cvtColor(frame,cv2.COLOR_BGR2HSV)\n",
    "    mask = cv2.inRange(hsv,lower_red,upper_red)\n",
    "    #med = cv2.medianBlur(mask,3)\n",
    "    #maskOpen = cv2.morphologyEx(mask,cv2.MORPH_CLOSE,kernel)\n",
    "    \n",
    "    maskClose = cv2.morphologyEx(mask,cv2.MORPH_CLOSE,kernel,iterations =3)\n",
    "    \n",
    "    res=cv2.bitwise_and(frame,frame,mask=maskClose)\n",
    "    \n",
    "    \n",
    "    cv2.findContours(res,cv2.RETR_EXTERNAL)\n",
    "    cv2.imshow('frame',res)\n",
    "    if(cv2.waitKey(1) & 0xff == ord('q')):\n",
    "        break\n",
    "cap.release()\n",
    "cv2.destroyAllWindows()"
   ]
  },
  {
   "cell_type": "code",
   "execution_count": null,
   "metadata": {
    "collapsed": true
   },
   "outputs": [],
   "source": []
  },
  {
   "cell_type": "code",
   "execution_count": null,
   "metadata": {
    "collapsed": true
   },
   "outputs": [],
   "source": []
  }
 ],
 "metadata": {
  "anaconda-cloud": {},
  "kernelspec": {
   "display_name": "Python [conda root]",
   "language": "python",
   "name": "conda-root-py"
  },
  "language_info": {
   "codemirror_mode": {
    "name": "ipython",
    "version": 3
   },
   "file_extension": ".py",
   "mimetype": "text/x-python",
   "name": "python",
   "nbconvert_exporter": "python",
   "pygments_lexer": "ipython3",
   "version": "3.5.5"
  }
 },
 "nbformat": 4,
 "nbformat_minor": 1
}
